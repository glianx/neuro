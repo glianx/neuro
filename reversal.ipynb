{
 "cells": [
  {
   "cell_type": "code",
   "execution_count": 162,
   "id": "a79944ed",
   "metadata": {},
   "outputs": [],
   "source": [
    "using GLMakie\n",
    "using Colors\n",
    "set_theme!(theme_dark())"
   ]
  },
  {
   "cell_type": "code",
   "execution_count": null,
   "id": "15e5833c",
   "metadata": {},
   "outputs": [
    {
     "name": "stdout",
     "output_type": "stream",
     "text": [
      "RT/zF=26.712\n"
     ]
    }
   ],
   "source": [
    "fig = Figure()\n",
    "ax = Axis(fig[1,1], xlabel=\"Vm (mV)\", ylabel=\"Current (pA)\")\n",
    "\n",
    "sl_1 = Slider(fig[2,1], range = 100:1:160, startvalue = 145)   # Na_out\n",
    "sl_2 = Slider(fig[3,1], range = 5:0.5:20,   startvalue = 15)   # Na_in\n",
    "sl_3 = Slider(fig[4,1], range = 2:0.2:10,   startvalue = 5)    # K_out\n",
    "sl_4 = Slider(fig[5,1], range = 120:1:160,  startvalue = 140)  # K_in\n",
    "\n",
    "sl_gNa = Slider(fig[6,1], range=0:0.01:1, startvalue=0.2)\n",
    "sl_gK  = Slider(fig[7,1], range=0:0.1:10, startvalue=1)\n",
    "\n",
    "lb_1 = Label(fig[2,2], lift(x -> \"Na_out = $(x) mM\", sl_1.value))\n",
    "lb_2 = Label(fig[3,2], lift(x -> \"Na_in  = $(x) mM\", sl_2.value))\n",
    "lb_3 = Label(fig[4,2], lift(x -> \"K_out  = $(x) mM\", sl_3.value))\n",
    "lb_4 = Label(fig[5,2], lift(x -> \"K_in   = $(x) mM\", sl_4.value))\n",
    "\n",
    "lb_gNa = Label(fig[6,2], lift(x -> \"g_Na  = $(x) nS\", sl_gNa.value))\n",
    "lb_gK = Label(fig[7,2], lift(x -> \"g_K   = $(x) nS\", sl_gK.value))\n",
    "\n",
    "Vm = -150:1:150\n",
    "\n",
    "R = 8.314\n",
    "T = 310\n",
    "F = 96_485\n",
    "z = 1\n",
    "\n",
    "RTzF = R*T/z/F * 1000 # V -> mV\n",
    "println(\"RT/zF=$(round(RTzF, digits=3))\")\n",
    "\n",
    "Ena = lift(sl_1.value, sl_2.value) do Na_out, Na_in\n",
    "    RTzF * log(Na_out/Na_in)\n",
    "end\n",
    "Ek  = lift(sl_3.value, sl_4.value) do K_out, K_in\n",
    "    RTzF * log(K_out/K_in)\n",
    "end\n",
    "\n",
    "I_Na = lift(Ena, sl_gNa.value) do Ena, g_Na\n",
    "    g_Na.*(Vm .- Ena)\n",
    "end\n",
    "I_K  = lift(Ek, sl_gK.value) do Ek, g_K\n",
    "    g_K.*(Vm .- Ek)\n",
    "end\n",
    "\n",
    "ln_Na = lines!(Vm, I_Na, color=RGB(0, 186/255, 255/255))\n",
    "ln_K  = lines!(Vm, I_K, color=:red)\n",
    "\n",
    "I_tot = @lift($I_Na .+ $I_K)\n",
    "ln_tot = lines!(Vm, I_tot, color = :green)\n",
    "\n",
    "goldman = lift(sl_1.value, \n",
    "    sl_2.value, \n",
    "    sl_3.value, \n",
    "    sl_4.value,\n",
    "    sl_gNa.value,\n",
    "    sl_gK.value\n",
    ") do Na_out, Na_in, K_out, K_in, g_Na, g_K\n",
    "    RTzF * log(\n",
    "        (g_Na * Na_out + g_K * K_out) / \n",
    "        (g_Na * Na_in  + g_K * K_in)\n",
    "    )\n",
    "end\n",
    "\n",
    "scatter!(@lift([$goldman]), [0], color=:purple)\n",
    "\n",
    "hodgkin_huxley = lift(Ena, Ek, sl_gNa.value, sl_gK.value) do Ena, Ek, gNa, gK\n",
    "    (gNa*Ena + gK*Ek) / (gNa + gK)\n",
    "end\n",
    "scatter!(@lift([$hodgkin_huxley]), [0], color=:orange)\n",
    "\n",
    "leg = axislegend(\n",
    "    ax, \n",
    "    [ln_Na, ln_K, ln_tot], \n",
    "    [\"I_Na\", \"I_K\", \"I_tot\"],\n",
    "    position = :rb,\n",
    "    labelfont = \"Georgia\"\n",
    ")\n",
    "\n",
    "fig"
   ]
  },
  {
   "cell_type": "code",
   "execution_count": null,
   "id": "7a324c11",
   "metadata": {},
   "outputs": [],
   "source": []
  },
  {
   "cell_type": "code",
   "execution_count": null,
   "id": "dc081a77",
   "metadata": {},
   "outputs": [],
   "source": []
  },
  {
   "cell_type": "code",
   "execution_count": null,
   "id": "8100333a",
   "metadata": {},
   "outputs": [],
   "source": []
  }
 ],
 "metadata": {
  "kernelspec": {
   "display_name": "Julia 1.11.7",
   "language": "julia",
   "name": "julia-1.11"
  },
  "language_info": {
   "file_extension": ".jl",
   "mimetype": "application/julia",
   "name": "julia",
   "version": "1.11.7"
  }
 },
 "nbformat": 4,
 "nbformat_minor": 5
}
